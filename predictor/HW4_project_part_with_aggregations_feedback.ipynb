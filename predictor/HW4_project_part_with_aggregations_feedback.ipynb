{
 "cells": [
  {
   "cell_type": "markdown",
   "metadata": {},
   "source": [
    "## the code we wrote for creating the data.\n",
    "## https://github.com/anryabrahamyan/Road_Traffic_Prediction/"
   ]
  },
  {
   "cell_type": "markdown",
   "metadata": {},
   "source": [
    "# The following file is the second approach which is averaging our observations for each hour."
   ]
  },
  {
   "cell_type": "code",
   "execution_count": 9,
   "metadata": {
    "collapsed": true,
    "jupyter": {
     "outputs_hidden": true
    },
    "tags": []
   },
   "outputs": [
    {
     "name": "stdout",
     "output_type": "stream",
     "text": [
      "Requirement already satisfied: matplotlib in /home/studio-lab-user/.conda/envs/default/lib/python3.9/site-packages (3.5.2)\n",
      "Requirement already satisfied: fonttools>=4.22.0 in /home/studio-lab-user/.conda/envs/default/lib/python3.9/site-packages (from matplotlib) (4.33.3)\n",
      "Requirement already satisfied: packaging>=20.0 in /home/studio-lab-user/.conda/envs/default/lib/python3.9/site-packages (from matplotlib) (21.3)\n",
      "Requirement already satisfied: pillow>=6.2.0 in /home/studio-lab-user/.conda/envs/default/lib/python3.9/site-packages (from matplotlib) (9.0.1)\n",
      "Requirement already satisfied: pyparsing>=2.2.1 in /home/studio-lab-user/.conda/envs/default/lib/python3.9/site-packages (from matplotlib) (3.0.7)\n",
      "Requirement already satisfied: cycler>=0.10 in /home/studio-lab-user/.conda/envs/default/lib/python3.9/site-packages (from matplotlib) (0.11.0)\n",
      "Requirement already satisfied: kiwisolver>=1.0.1 in /home/studio-lab-user/.conda/envs/default/lib/python3.9/site-packages (from matplotlib) (1.4.2)\n",
      "Requirement already satisfied: numpy>=1.17 in /home/studio-lab-user/.conda/envs/default/lib/python3.9/site-packages (from matplotlib) (1.22.3)\n",
      "Requirement already satisfied: python-dateutil>=2.7 in /home/studio-lab-user/.conda/envs/default/lib/python3.9/site-packages (from matplotlib) (2.8.2)\n",
      "Requirement already satisfied: six>=1.5 in /home/studio-lab-user/.conda/envs/default/lib/python3.9/site-packages (from python-dateutil>=2.7->matplotlib) (1.16.0)\n",
      "Collecting statsmodels\n",
      "  Downloading statsmodels-0.13.2-cp39-cp39-manylinux_2_17_x86_64.manylinux2014_x86_64.whl (9.9 MB)\n",
      "\u001b[K     |████████████████████████████████| 9.9 MB 3.2 MB/s eta 0:00:01\n",
      "\u001b[?25hRequirement already satisfied: numpy>=1.17 in /home/studio-lab-user/.conda/envs/default/lib/python3.9/site-packages (from statsmodels) (1.22.3)\n",
      "Requirement already satisfied: packaging>=21.3 in /home/studio-lab-user/.conda/envs/default/lib/python3.9/site-packages (from statsmodels) (21.3)\n",
      "Requirement already satisfied: pandas>=0.25 in /home/studio-lab-user/.conda/envs/default/lib/python3.9/site-packages (from statsmodels) (1.4.0)\n",
      "Collecting patsy>=0.5.2\n",
      "  Downloading patsy-0.5.2-py2.py3-none-any.whl (233 kB)\n",
      "\u001b[K     |████████████████████████████████| 233 kB 99.4 MB/s eta 0:00:01\n",
      "\u001b[?25hRequirement already satisfied: scipy>=1.3 in /home/studio-lab-user/.conda/envs/default/lib/python3.9/site-packages (from statsmodels) (1.8.0)\n",
      "Requirement already satisfied: pyparsing!=3.0.5,>=2.0.2 in /home/studio-lab-user/.conda/envs/default/lib/python3.9/site-packages (from packaging>=21.3->statsmodels) (3.0.7)\n",
      "Requirement already satisfied: pytz>=2020.1 in /home/studio-lab-user/.conda/envs/default/lib/python3.9/site-packages (from pandas>=0.25->statsmodels) (2022.1)\n",
      "Requirement already satisfied: python-dateutil>=2.8.1 in /home/studio-lab-user/.conda/envs/default/lib/python3.9/site-packages (from pandas>=0.25->statsmodels) (2.8.2)\n",
      "Requirement already satisfied: six in /home/studio-lab-user/.conda/envs/default/lib/python3.9/site-packages (from patsy>=0.5.2->statsmodels) (1.16.0)\n",
      "Installing collected packages: patsy, statsmodels\n",
      "Successfully installed patsy-0.5.2 statsmodels-0.13.2\n",
      "Collecting pmdarima\n",
      "  Downloading pmdarima-1.8.5-cp39-cp39-manylinux_2_17_x86_64.manylinux2014_x86_64.manylinux_2_24_x86_64.whl (1.4 MB)\n",
      "\u001b[K     |████████████████████████████████| 1.4 MB 3.2 MB/s eta 0:00:01\n",
      "\u001b[?25hRequirement already satisfied: joblib>=0.11 in /home/studio-lab-user/.conda/envs/default/lib/python3.9/site-packages (from pmdarima) (1.1.0)\n",
      "Requirement already satisfied: scipy>=1.3.2 in /home/studio-lab-user/.conda/envs/default/lib/python3.9/site-packages (from pmdarima) (1.8.0)\n",
      "Requirement already satisfied: urllib3 in /home/studio-lab-user/.conda/envs/default/lib/python3.9/site-packages (from pmdarima) (1.26.9)\n",
      "Requirement already satisfied: numpy>=1.19.3 in /home/studio-lab-user/.conda/envs/default/lib/python3.9/site-packages (from pmdarima) (1.22.3)\n",
      "Requirement already satisfied: scikit-learn>=0.22 in /home/studio-lab-user/.conda/envs/default/lib/python3.9/site-packages (from pmdarima) (1.0.2)\n",
      "Requirement already satisfied: pandas>=0.19 in /home/studio-lab-user/.conda/envs/default/lib/python3.9/site-packages (from pmdarima) (1.4.0)\n",
      "Requirement already satisfied: setuptools!=50.0.0,>=38.6.0 in /home/studio-lab-user/.conda/envs/default/lib/python3.9/site-packages (from pmdarima) (60.9.3)\n",
      "Collecting Cython!=0.29.18,>=0.29\n",
      "  Downloading Cython-0.29.28-cp39-cp39-manylinux_2_17_x86_64.manylinux2014_x86_64.manylinux_2_24_x86_64.whl (1.9 MB)\n",
      "\u001b[K     |████████████████████████████████| 1.9 MB 24.7 MB/s eta 0:00:01\n",
      "\u001b[?25hRequirement already satisfied: statsmodels!=0.12.0,>=0.11 in /home/studio-lab-user/.conda/envs/default/lib/python3.9/site-packages (from pmdarima) (0.13.2)\n",
      "Requirement already satisfied: pytz>=2020.1 in /home/studio-lab-user/.conda/envs/default/lib/python3.9/site-packages (from pandas>=0.19->pmdarima) (2022.1)\n",
      "Requirement already satisfied: python-dateutil>=2.8.1 in /home/studio-lab-user/.conda/envs/default/lib/python3.9/site-packages (from pandas>=0.19->pmdarima) (2.8.2)\n",
      "Requirement already satisfied: six>=1.5 in /home/studio-lab-user/.conda/envs/default/lib/python3.9/site-packages (from python-dateutil>=2.8.1->pandas>=0.19->pmdarima) (1.16.0)\n",
      "Requirement already satisfied: threadpoolctl>=2.0.0 in /home/studio-lab-user/.conda/envs/default/lib/python3.9/site-packages (from scikit-learn>=0.22->pmdarima) (3.1.0)\n",
      "Requirement already satisfied: patsy>=0.5.2 in /home/studio-lab-user/.conda/envs/default/lib/python3.9/site-packages (from statsmodels!=0.12.0,>=0.11->pmdarima) (0.5.2)\n",
      "Requirement already satisfied: packaging>=21.3 in /home/studio-lab-user/.conda/envs/default/lib/python3.9/site-packages (from statsmodels!=0.12.0,>=0.11->pmdarima) (21.3)\n",
      "Requirement already satisfied: pyparsing!=3.0.5,>=2.0.2 in /home/studio-lab-user/.conda/envs/default/lib/python3.9/site-packages (from packaging>=21.3->statsmodels!=0.12.0,>=0.11->pmdarima) (3.0.7)\n",
      "Installing collected packages: Cython, pmdarima\n",
      "Successfully installed Cython-0.29.28 pmdarima-1.8.5\n"
     ]
    }
   ],
   "source": [
    "!pip install matplotlib\n",
    "!pip install statsmodels\n",
    "!pip install pmdarima"
   ]
  },
  {
   "cell_type": "code",
   "execution_count": 11,
   "metadata": {
    "colab": {
     "base_uri": "https://localhost:8080/"
    },
    "id": "G00HVpGVjsHd",
    "outputId": "a78be7dc-2007-46fb-8e8c-7b3c8120fba2"
   },
   "outputs": [],
   "source": [
    "import pandas as pd\n",
    "import matplotlib.pyplot as plt\n",
    "from statsmodels.tsa.stattools import kpss,adfuller\n",
    "from statsmodels.graphics.tsaplots import plot_acf,plot_pacf\n",
    "from statsmodels.tsa.arima.model import ARIMA\n",
    "from statsmodels.tsa.statespace.sarimax import SARIMAX\n",
    "from statsmodels.tsa.holtwinters import ExponentialSmoothing\n",
    "import statsmodels.api as sm\n",
    "import pmdarima as pm\n",
    "import numpy as np\n",
    "from datetime import timedelta "
   ]
  },
  {
   "cell_type": "markdown",
   "metadata": {},
   "source": [
    "## Loading and preprocessing the data"
   ]
  },
  {
   "cell_type": "code",
   "execution_count": 12,
   "metadata": {
    "colab": {
     "base_uri": "https://localhost:8080/",
     "height": 418
    },
    "id": "gvtKyBDekUIK",
    "outputId": "423303b0-a641-4f80-cf3e-18b5e641a47c"
   },
   "outputs": [
    {
     "data": {
      "text/html": [
       "<div>\n",
       "<style scoped>\n",
       "    .dataframe tbody tr th:only-of-type {\n",
       "        vertical-align: middle;\n",
       "    }\n",
       "\n",
       "    .dataframe tbody tr th {\n",
       "        vertical-align: top;\n",
       "    }\n",
       "\n",
       "    .dataframe thead th {\n",
       "        text-align: right;\n",
       "    }\n",
       "</style>\n",
       "<table border=\"1\" class=\"dataframe\">\n",
       "  <thead>\n",
       "    <tr style=\"text-align: right;\">\n",
       "      <th></th>\n",
       "      <th>weather_main</th>\n",
       "      <th>weather_desc</th>\n",
       "      <th>temp</th>\n",
       "      <th>feels_like</th>\n",
       "      <th>temp_min</th>\n",
       "      <th>temp_max</th>\n",
       "      <th>pressure</th>\n",
       "      <th>humidity</th>\n",
       "      <th>visibility</th>\n",
       "      <th>wind_speed</th>\n",
       "      <th>...</th>\n",
       "      <th>Motorcycle_0.9</th>\n",
       "      <th>Motorcycle_0.7</th>\n",
       "      <th>Motorcycle_0.5</th>\n",
       "      <th>Motorcycle_0.3</th>\n",
       "      <th>Motorcycle_0.1</th>\n",
       "      <th>Ambulance_0.9</th>\n",
       "      <th>Ambulance_0.7</th>\n",
       "      <th>Ambulance_0.5</th>\n",
       "      <th>Ambulance_0.3</th>\n",
       "      <th>Ambulance_0.1</th>\n",
       "    </tr>\n",
       "    <tr>\n",
       "      <th>datetime</th>\n",
       "      <th></th>\n",
       "      <th></th>\n",
       "      <th></th>\n",
       "      <th></th>\n",
       "      <th></th>\n",
       "      <th></th>\n",
       "      <th></th>\n",
       "      <th></th>\n",
       "      <th></th>\n",
       "      <th></th>\n",
       "      <th></th>\n",
       "      <th></th>\n",
       "      <th></th>\n",
       "      <th></th>\n",
       "      <th></th>\n",
       "      <th></th>\n",
       "      <th></th>\n",
       "      <th></th>\n",
       "      <th></th>\n",
       "      <th></th>\n",
       "      <th></th>\n",
       "    </tr>\n",
       "  </thead>\n",
       "  <tbody>\n",
       "    <tr>\n",
       "      <th>2022-04-10 20:44:39</th>\n",
       "      <td>Clouds</td>\n",
       "      <td>broken clouds</td>\n",
       "      <td>8.60</td>\n",
       "      <td>3.60</td>\n",
       "      <td>7.31</td>\n",
       "      <td>10.04</td>\n",
       "      <td>1008</td>\n",
       "      <td>47</td>\n",
       "      <td>10000</td>\n",
       "      <td>13.89</td>\n",
       "      <td>...</td>\n",
       "      <td>0</td>\n",
       "      <td>0</td>\n",
       "      <td>0</td>\n",
       "      <td>0</td>\n",
       "      <td>0</td>\n",
       "      <td>0</td>\n",
       "      <td>0</td>\n",
       "      <td>0</td>\n",
       "      <td>0</td>\n",
       "      <td>0</td>\n",
       "    </tr>\n",
       "    <tr>\n",
       "      <th>2022-04-10 20:49:39</th>\n",
       "      <td>Clouds</td>\n",
       "      <td>broken clouds</td>\n",
       "      <td>8.60</td>\n",
       "      <td>3.60</td>\n",
       "      <td>7.31</td>\n",
       "      <td>10.04</td>\n",
       "      <td>1008</td>\n",
       "      <td>47</td>\n",
       "      <td>10000</td>\n",
       "      <td>13.89</td>\n",
       "      <td>...</td>\n",
       "      <td>0</td>\n",
       "      <td>0</td>\n",
       "      <td>0</td>\n",
       "      <td>0</td>\n",
       "      <td>0</td>\n",
       "      <td>0</td>\n",
       "      <td>0</td>\n",
       "      <td>0</td>\n",
       "      <td>0</td>\n",
       "      <td>0</td>\n",
       "    </tr>\n",
       "    <tr>\n",
       "      <th>2022-04-10 20:54:39</th>\n",
       "      <td>Clouds</td>\n",
       "      <td>overcast clouds</td>\n",
       "      <td>8.68</td>\n",
       "      <td>5.07</td>\n",
       "      <td>7.22</td>\n",
       "      <td>10.13</td>\n",
       "      <td>1008</td>\n",
       "      <td>49</td>\n",
       "      <td>10000</td>\n",
       "      <td>7.60</td>\n",
       "      <td>...</td>\n",
       "      <td>0</td>\n",
       "      <td>0</td>\n",
       "      <td>0</td>\n",
       "      <td>0</td>\n",
       "      <td>0</td>\n",
       "      <td>0</td>\n",
       "      <td>0</td>\n",
       "      <td>0</td>\n",
       "      <td>0</td>\n",
       "      <td>0</td>\n",
       "    </tr>\n",
       "    <tr>\n",
       "      <th>2022-04-10 20:59:39</th>\n",
       "      <td>Clouds</td>\n",
       "      <td>overcast clouds</td>\n",
       "      <td>8.68</td>\n",
       "      <td>5.07</td>\n",
       "      <td>7.22</td>\n",
       "      <td>10.13</td>\n",
       "      <td>1008</td>\n",
       "      <td>49</td>\n",
       "      <td>10000</td>\n",
       "      <td>7.60</td>\n",
       "      <td>...</td>\n",
       "      <td>0</td>\n",
       "      <td>0</td>\n",
       "      <td>0</td>\n",
       "      <td>0</td>\n",
       "      <td>0</td>\n",
       "      <td>0</td>\n",
       "      <td>0</td>\n",
       "      <td>0</td>\n",
       "      <td>0</td>\n",
       "      <td>0</td>\n",
       "    </tr>\n",
       "    <tr>\n",
       "      <th>2022-04-10 21:04:39</th>\n",
       "      <td>Clouds</td>\n",
       "      <td>overcast clouds</td>\n",
       "      <td>8.68</td>\n",
       "      <td>5.07</td>\n",
       "      <td>7.22</td>\n",
       "      <td>10.13</td>\n",
       "      <td>1008</td>\n",
       "      <td>49</td>\n",
       "      <td>10000</td>\n",
       "      <td>7.60</td>\n",
       "      <td>...</td>\n",
       "      <td>0</td>\n",
       "      <td>0</td>\n",
       "      <td>0</td>\n",
       "      <td>0</td>\n",
       "      <td>0</td>\n",
       "      <td>0</td>\n",
       "      <td>0</td>\n",
       "      <td>0</td>\n",
       "      <td>0</td>\n",
       "      <td>0</td>\n",
       "    </tr>\n",
       "  </tbody>\n",
       "</table>\n",
       "<p>5 rows × 61 columns</p>\n",
       "</div>"
      ],
      "text/plain": [
       "                    weather_main     weather_desc  temp  feels_like  temp_min  \\\n",
       "datetime                                                                        \n",
       "2022-04-10 20:44:39       Clouds    broken clouds  8.60        3.60      7.31   \n",
       "2022-04-10 20:49:39       Clouds    broken clouds  8.60        3.60      7.31   \n",
       "2022-04-10 20:54:39       Clouds  overcast clouds  8.68        5.07      7.22   \n",
       "2022-04-10 20:59:39       Clouds  overcast clouds  8.68        5.07      7.22   \n",
       "2022-04-10 21:04:39       Clouds  overcast clouds  8.68        5.07      7.22   \n",
       "\n",
       "                     temp_max  pressure  humidity  visibility  wind_speed  \\\n",
       "datetime                                                                    \n",
       "2022-04-10 20:44:39     10.04      1008        47       10000       13.89   \n",
       "2022-04-10 20:49:39     10.04      1008        47       10000       13.89   \n",
       "2022-04-10 20:54:39     10.13      1008        49       10000        7.60   \n",
       "2022-04-10 20:59:39     10.13      1008        49       10000        7.60   \n",
       "2022-04-10 21:04:39     10.13      1008        49       10000        7.60   \n",
       "\n",
       "                     ...  Motorcycle_0.9  Motorcycle_0.7  Motorcycle_0.5  \\\n",
       "datetime             ...                                                   \n",
       "2022-04-10 20:44:39  ...               0               0               0   \n",
       "2022-04-10 20:49:39  ...               0               0               0   \n",
       "2022-04-10 20:54:39  ...               0               0               0   \n",
       "2022-04-10 20:59:39  ...               0               0               0   \n",
       "2022-04-10 21:04:39  ...               0               0               0   \n",
       "\n",
       "                     Motorcycle_0.3  Motorcycle_0.1  Ambulance_0.9  \\\n",
       "datetime                                                             \n",
       "2022-04-10 20:44:39               0               0              0   \n",
       "2022-04-10 20:49:39               0               0              0   \n",
       "2022-04-10 20:54:39               0               0              0   \n",
       "2022-04-10 20:59:39               0               0              0   \n",
       "2022-04-10 21:04:39               0               0              0   \n",
       "\n",
       "                    Ambulance_0.7 Ambulance_0.5 Ambulance_0.3 Ambulance_0.1  \n",
       "datetime                                                                     \n",
       "2022-04-10 20:44:39             0             0             0             0  \n",
       "2022-04-10 20:49:39             0             0             0             0  \n",
       "2022-04-10 20:54:39             0             0             0             0  \n",
       "2022-04-10 20:59:39             0             0             0             0  \n",
       "2022-04-10 21:04:39             0             0             0             0  \n",
       "\n",
       "[5 rows x 61 columns]"
      ]
     },
     "execution_count": 12,
     "metadata": {},
     "output_type": "execute_result"
    }
   ],
   "source": [
    "df = pd.read_csv(\"../dataset/data.csv\")\n",
    "df.datetime = pd.to_datetime(df.datetime,format = \"%d/%m/%Y %H:%M:%S\")\n",
    "df.index = df.datetime\n",
    "df.drop(columns = ['datetime'], inplace = True)\n",
    "df.head()"
   ]
  },
  {
   "cell_type": "code",
   "execution_count": 13,
   "metadata": {},
   "outputs": [],
   "source": [
    "for col in ['weather_main','weather_desc']:\n",
    "    data = pd.get_dummies(df[col])\n",
    "    df = pd.concat([df,data],axis = 1)\n",
    "    df.drop(columns = [col],inplace=True)"
   ]
  },
  {
   "cell_type": "code",
   "execution_count": 14,
   "metadata": {},
   "outputs": [
    {
     "name": "stderr",
     "output_type": "stream",
     "text": [
      "/tmp/ipykernel_118/3596543675.py:3: FutureWarning: Slicing a positional slice with .loc is not supported, and will raise TypeError in a future version.  Use .loc with labels or .iloc with positions instead.\n",
      "  df.loc[72:144,'Vehicle_0.1'] = np.nan\n"
     ]
    }
   ],
   "source": [
    "#fix weird time period\n",
    "df = df.replace(\"None\", np.nan) \n",
    "df.loc[72:144,'Vehicle_0.1'] = np.nan"
   ]
  },
  {
   "cell_type": "code",
   "execution_count": 15,
   "metadata": {},
   "outputs": [],
   "source": [
    "for col in df.columns:\n",
    "    df[col] = df[col].astype('float64')"
   ]
  },
  {
   "cell_type": "code",
   "execution_count": 16,
   "metadata": {},
   "outputs": [],
   "source": [
    "#convert the index to date/time and remove the ones with missing vehicle data\n",
    "df_cleaned =pd.DataFrame( index=pd.date_range(df.index.min(),df.index.max(),freq='min'))\n",
    "df_cleaned.index = df_cleaned.index.round(freq='min')\n",
    "df.index = df.index.round(freq='min')\n",
    "df_without_na = df[~df['Vehicle_0.1'].isna()]"
   ]
  },
  {
   "cell_type": "code",
   "execution_count": 17,
   "metadata": {},
   "outputs": [],
   "source": [
    "#add the data to the cleaned dataframe\n",
    "columns = df.columns.values\n",
    "for column in columns:\n",
    "    df_cleaned[column] = np.nan\n",
    "df_cleaned.loc[df_without_na.index,columns]=df_without_na[columns]"
   ]
  },
  {
   "cell_type": "code",
   "execution_count": 20,
   "metadata": {},
   "outputs": [],
   "source": [
    "#iteratively fill with the rolling mean\n",
    "rolling_mean_30 = df_cleaned.copy()\n",
    "while sum(rolling_mean_30.isna().sum().values)>0:\n",
    "    rolling_mean_30.fillna(rolling_mean_30.rolling(30, min_periods=1).mean().shift(),inplace=True)\n",
    "df_cleaned=rolling_mean_30"
   ]
  },
  {
   "cell_type": "code",
   "execution_count": 21,
   "metadata": {},
   "outputs": [
    {
     "data": {
      "text/plain": [
       "<AxesSubplot:>"
      ]
     },
     "execution_count": 21,
     "metadata": {},
     "output_type": "execute_result"
    },
    {
     "data": {
      "image/png": "[encoded data removed]",
      "text/plain": [
       "<Figure size 432x288 with 1 Axes>"
      ]
     },
     "metadata": {
      "needs_background": "light"
     },
     "output_type": "display_data"
    }
   ],
   "source": [
    "# compute the means for the filled data\n",
    "df_cleaned['Vehicle_0.1'] = df_cleaned['Vehicle_0.1'].astype(int)\n",
    "df_cleaned = df_cleaned.groupby([df_cleaned.index.day,df_cleaned.index.hour]).mean().reset_index()\n",
    "df_cleaned.rename({'level_0':'day','hour':'hour'},inplace=True)\n",
    "df_cleaned['temp'].plot()"
   ]
  },
  {
   "cell_type": "code",
   "execution_count": 22,
   "metadata": {
    "colab": {
     "base_uri": "https://localhost:8080/",
     "height": 345
    },
    "id": "HsPz8u64lQq0",
    "outputId": "119a6a6d-14d6-467d-f446-14195ebc4730"
   },
   "outputs": [
    {
     "data": {
      "image/png": "[encoded data removed]",
      "text/plain": [
       "<Figure size 1440x576 with 1 Axes>"
      ]
     },
     "metadata": {
      "needs_background": "light"
     },
     "output_type": "display_data"
    }
   ],
   "source": [
    "plt.figure(figsize=(20,8))\n",
    "plt.plot(df_cleaned[\"Vehicle_0.1\"].astype(float))\n",
    "plt.show()"
   ]
  },
  {
   "cell_type": "code",
   "execution_count": 23,
   "metadata": {},
   "outputs": [
    {
     "data": {
      "text/html": [
       "<div>\n",
       "<style scoped>\n",
       "    .dataframe tbody tr th:only-of-type {\n",
       "        vertical-align: middle;\n",
       "    }\n",
       "\n",
       "    .dataframe tbody tr th {\n",
       "        vertical-align: top;\n",
       "    }\n",
       "\n",
       "    .dataframe thead th {\n",
       "        text-align: right;\n",
       "    }\n",
       "</style>\n",
       "<table border=\"1\" class=\"dataframe\">\n",
       "  <thead>\n",
       "    <tr style=\"text-align: right;\">\n",
       "      <th></th>\n",
       "      <th>level_0</th>\n",
       "      <th>level_1</th>\n",
       "      <th>temp</th>\n",
       "      <th>feels_like</th>\n",
       "      <th>temp_min</th>\n",
       "      <th>temp_max</th>\n",
       "      <th>pressure</th>\n",
       "      <th>humidity</th>\n",
       "      <th>visibility</th>\n",
       "      <th>wind_speed</th>\n",
       "      <th>...</th>\n",
       "      <th>clear sky</th>\n",
       "      <th>drizzle</th>\n",
       "      <th>few clouds</th>\n",
       "      <th>heavy intensity rain</th>\n",
       "      <th>light rain</th>\n",
       "      <th>moderate rain</th>\n",
       "      <th>overcast clouds</th>\n",
       "      <th>scattered clouds</th>\n",
       "      <th>squalls</th>\n",
       "      <th>thunderstorm</th>\n",
       "    </tr>\n",
       "  </thead>\n",
       "  <tbody>\n",
       "    <tr>\n",
       "      <th>0</th>\n",
       "      <td>10</td>\n",
       "      <td>20</td>\n",
       "      <td>8.612444</td>\n",
       "      <td>3.828667</td>\n",
       "      <td>7.296000</td>\n",
       "      <td>10.054000</td>\n",
       "      <td>1008.000000</td>\n",
       "      <td>47.311111</td>\n",
       "      <td>10000.0</td>\n",
       "      <td>12.911556</td>\n",
       "      <td>...</td>\n",
       "      <td>0.000000</td>\n",
       "      <td>0.000000</td>\n",
       "      <td>0.0</td>\n",
       "      <td>0.0</td>\n",
       "      <td>0.0</td>\n",
       "      <td>0.0</td>\n",
       "      <td>0.155556</td>\n",
       "      <td>0.0</td>\n",
       "      <td>0.0</td>\n",
       "      <td>0.0</td>\n",
       "    </tr>\n",
       "    <tr>\n",
       "      <th>1</th>\n",
       "      <td>10</td>\n",
       "      <td>21</td>\n",
       "      <td>8.779033</td>\n",
       "      <td>4.738022</td>\n",
       "      <td>7.508622</td>\n",
       "      <td>10.122156</td>\n",
       "      <td>1008.000000</td>\n",
       "      <td>47.646667</td>\n",
       "      <td>10000.0</td>\n",
       "      <td>9.511233</td>\n",
       "      <td>...</td>\n",
       "      <td>0.000000</td>\n",
       "      <td>0.000000</td>\n",
       "      <td>0.0</td>\n",
       "      <td>0.0</td>\n",
       "      <td>0.0</td>\n",
       "      <td>0.0</td>\n",
       "      <td>0.906667</td>\n",
       "      <td>0.0</td>\n",
       "      <td>0.0</td>\n",
       "      <td>0.0</td>\n",
       "    </tr>\n",
       "    <tr>\n",
       "      <th>2</th>\n",
       "      <td>10</td>\n",
       "      <td>22</td>\n",
       "      <td>9.031611</td>\n",
       "      <td>5.459389</td>\n",
       "      <td>7.725444</td>\n",
       "      <td>10.277111</td>\n",
       "      <td>1008.000000</td>\n",
       "      <td>45.666667</td>\n",
       "      <td>10000.0</td>\n",
       "      <td>7.956667</td>\n",
       "      <td>...</td>\n",
       "      <td>0.000000</td>\n",
       "      <td>0.000000</td>\n",
       "      <td>0.0</td>\n",
       "      <td>0.0</td>\n",
       "      <td>0.0</td>\n",
       "      <td>0.0</td>\n",
       "      <td>1.000000</td>\n",
       "      <td>0.0</td>\n",
       "      <td>0.0</td>\n",
       "      <td>0.0</td>\n",
       "    </tr>\n",
       "    <tr>\n",
       "      <th>3</th>\n",
       "      <td>10</td>\n",
       "      <td>23</td>\n",
       "      <td>9.077056</td>\n",
       "      <td>5.133389</td>\n",
       "      <td>7.967667</td>\n",
       "      <td>10.224500</td>\n",
       "      <td>1007.250000</td>\n",
       "      <td>45.250000</td>\n",
       "      <td>10000.0</td>\n",
       "      <td>9.385000</td>\n",
       "      <td>...</td>\n",
       "      <td>0.000000</td>\n",
       "      <td>0.000000</td>\n",
       "      <td>0.0</td>\n",
       "      <td>0.0</td>\n",
       "      <td>0.0</td>\n",
       "      <td>0.0</td>\n",
       "      <td>1.000000</td>\n",
       "      <td>0.0</td>\n",
       "      <td>0.0</td>\n",
       "      <td>0.0</td>\n",
       "    </tr>\n",
       "    <tr>\n",
       "      <th>4</th>\n",
       "      <td>11</td>\n",
       "      <td>0</td>\n",
       "      <td>9.196278</td>\n",
       "      <td>5.222444</td>\n",
       "      <td>7.860778</td>\n",
       "      <td>10.307556</td>\n",
       "      <td>1007.583333</td>\n",
       "      <td>45.127778</td>\n",
       "      <td>10000.0</td>\n",
       "      <td>9.664444</td>\n",
       "      <td>...</td>\n",
       "      <td>0.000000</td>\n",
       "      <td>0.555556</td>\n",
       "      <td>0.0</td>\n",
       "      <td>0.0</td>\n",
       "      <td>0.0</td>\n",
       "      <td>0.0</td>\n",
       "      <td>0.444444</td>\n",
       "      <td>0.0</td>\n",
       "      <td>0.0</td>\n",
       "      <td>0.0</td>\n",
       "    </tr>\n",
       "    <tr>\n",
       "      <th>...</th>\n",
       "      <td>...</td>\n",
       "      <td>...</td>\n",
       "      <td>...</td>\n",
       "      <td>...</td>\n",
       "      <td>...</td>\n",
       "      <td>...</td>\n",
       "      <td>...</td>\n",
       "      <td>...</td>\n",
       "      <td>...</td>\n",
       "      <td>...</td>\n",
       "      <td>...</td>\n",
       "      <td>...</td>\n",
       "      <td>...</td>\n",
       "      <td>...</td>\n",
       "      <td>...</td>\n",
       "      <td>...</td>\n",
       "      <td>...</td>\n",
       "      <td>...</td>\n",
       "      <td>...</td>\n",
       "      <td>...</td>\n",
       "      <td>...</td>\n",
       "    </tr>\n",
       "    <tr>\n",
       "      <th>111</th>\n",
       "      <td>15</td>\n",
       "      <td>11</td>\n",
       "      <td>12.307500</td>\n",
       "      <td>10.752500</td>\n",
       "      <td>8.566667</td>\n",
       "      <td>14.382833</td>\n",
       "      <td>1017.000000</td>\n",
       "      <td>44.433333</td>\n",
       "      <td>10000.0</td>\n",
       "      <td>3.602500</td>\n",
       "      <td>...</td>\n",
       "      <td>0.750000</td>\n",
       "      <td>0.000000</td>\n",
       "      <td>0.0</td>\n",
       "      <td>0.0</td>\n",
       "      <td>0.0</td>\n",
       "      <td>0.0</td>\n",
       "      <td>0.250000</td>\n",
       "      <td>0.0</td>\n",
       "      <td>0.0</td>\n",
       "      <td>0.0</td>\n",
       "    </tr>\n",
       "    <tr>\n",
       "      <th>112</th>\n",
       "      <td>15</td>\n",
       "      <td>12</td>\n",
       "      <td>11.313500</td>\n",
       "      <td>9.779000</td>\n",
       "      <td>7.365167</td>\n",
       "      <td>13.460667</td>\n",
       "      <td>1017.750000</td>\n",
       "      <td>49.000000</td>\n",
       "      <td>10000.0</td>\n",
       "      <td>3.046667</td>\n",
       "      <td>...</td>\n",
       "      <td>1.000000</td>\n",
       "      <td>0.000000</td>\n",
       "      <td>0.0</td>\n",
       "      <td>0.0</td>\n",
       "      <td>0.0</td>\n",
       "      <td>0.0</td>\n",
       "      <td>0.000000</td>\n",
       "      <td>0.0</td>\n",
       "      <td>0.0</td>\n",
       "      <td>0.0</td>\n",
       "    </tr>\n",
       "    <tr>\n",
       "      <th>113</th>\n",
       "      <td>15</td>\n",
       "      <td>13</td>\n",
       "      <td>10.758000</td>\n",
       "      <td>9.237000</td>\n",
       "      <td>5.976000</td>\n",
       "      <td>12.848000</td>\n",
       "      <td>1018.333333</td>\n",
       "      <td>51.666667</td>\n",
       "      <td>10000.0</td>\n",
       "      <td>3.062500</td>\n",
       "      <td>...</td>\n",
       "      <td>0.750000</td>\n",
       "      <td>0.000000</td>\n",
       "      <td>0.0</td>\n",
       "      <td>0.0</td>\n",
       "      <td>0.0</td>\n",
       "      <td>0.0</td>\n",
       "      <td>0.250000</td>\n",
       "      <td>0.0</td>\n",
       "      <td>0.0</td>\n",
       "      <td>0.0</td>\n",
       "    </tr>\n",
       "    <tr>\n",
       "      <th>114</th>\n",
       "      <td>15</td>\n",
       "      <td>14</td>\n",
       "      <td>10.225727</td>\n",
       "      <td>8.738108</td>\n",
       "      <td>5.264651</td>\n",
       "      <td>12.698990</td>\n",
       "      <td>1019.000000</td>\n",
       "      <td>54.800322</td>\n",
       "      <td>10000.0</td>\n",
       "      <td>3.585998</td>\n",
       "      <td>...</td>\n",
       "      <td>0.299919</td>\n",
       "      <td>0.000000</td>\n",
       "      <td>0.0</td>\n",
       "      <td>0.0</td>\n",
       "      <td>0.0</td>\n",
       "      <td>0.0</td>\n",
       "      <td>0.000000</td>\n",
       "      <td>0.0</td>\n",
       "      <td>0.0</td>\n",
       "      <td>0.0</td>\n",
       "    </tr>\n",
       "    <tr>\n",
       "      <th>115</th>\n",
       "      <td>15</td>\n",
       "      <td>15</td>\n",
       "      <td>10.116280</td>\n",
       "      <td>8.642625</td>\n",
       "      <td>5.250134</td>\n",
       "      <td>12.667926</td>\n",
       "      <td>1019.000000</td>\n",
       "      <td>55.756114</td>\n",
       "      <td>10000.0</td>\n",
       "      <td>3.581219</td>\n",
       "      <td>...</td>\n",
       "      <td>0.060971</td>\n",
       "      <td>0.000000</td>\n",
       "      <td>0.0</td>\n",
       "      <td>0.0</td>\n",
       "      <td>0.0</td>\n",
       "      <td>0.0</td>\n",
       "      <td>0.000000</td>\n",
       "      <td>0.0</td>\n",
       "      <td>0.0</td>\n",
       "      <td>0.0</td>\n",
       "    </tr>\n",
       "  </tbody>\n",
       "</table>\n",
       "<p>116 rows × 78 columns</p>\n",
       "</div>"
      ],
      "text/plain": [
       "     level_0  level_1       temp  feels_like  temp_min   temp_max  \\\n",
       "0         10       20   8.612444    3.828667  7.296000  10.054000   \n",
       "1         10       21   8.779033    4.738022  7.508622  10.122156   \n",
       "2         10       22   9.031611    5.459389  7.725444  10.277111   \n",
       "3         10       23   9.077056    5.133389  7.967667  10.224500   \n",
       "4         11        0   9.196278    5.222444  7.860778  10.307556   \n",
       "..       ...      ...        ...         ...       ...        ...   \n",
       "111       15       11  12.307500   10.752500  8.566667  14.382833   \n",
       "112       15       12  11.313500    9.779000  7.365167  13.460667   \n",
       "113       15       13  10.758000    9.237000  5.976000  12.848000   \n",
       "114       15       14  10.225727    8.738108  5.264651  12.698990   \n",
       "115       15       15  10.116280    8.642625  5.250134  12.667926   \n",
       "\n",
       "        pressure   humidity  visibility  wind_speed  ...  clear sky   drizzle  \\\n",
       "0    1008.000000  47.311111     10000.0   12.911556  ...   0.000000  0.000000   \n",
       "1    1008.000000  47.646667     10000.0    9.511233  ...   0.000000  0.000000   \n",
       "2    1008.000000  45.666667     10000.0    7.956667  ...   0.000000  0.000000   \n",
       "3    1007.250000  45.250000     10000.0    9.385000  ...   0.000000  0.000000   \n",
       "4    1007.583333  45.127778     10000.0    9.664444  ...   0.000000  0.555556   \n",
       "..           ...        ...         ...         ...  ...        ...       ...   \n",
       "111  1017.000000  44.433333     10000.0    3.602500  ...   0.750000  0.000000   \n",
       "112  1017.750000  49.000000     10000.0    3.046667  ...   1.000000  0.000000   \n",
       "113  1018.333333  51.666667     10000.0    3.062500  ...   0.750000  0.000000   \n",
       "114  1019.000000  54.800322     10000.0    3.585998  ...   0.299919  0.000000   \n",
       "115  1019.000000  55.756114     10000.0    3.581219  ...   0.060971  0.000000   \n",
       "\n",
       "     few clouds  heavy intensity rain  light rain  moderate rain  \\\n",
       "0           0.0                   0.0         0.0            0.0   \n",
       "1           0.0                   0.0         0.0            0.0   \n",
       "2           0.0                   0.0         0.0            0.0   \n",
       "3           0.0                   0.0         0.0            0.0   \n",
       "4           0.0                   0.0         0.0            0.0   \n",
       "..          ...                   ...         ...            ...   \n",
       "111         0.0                   0.0         0.0            0.0   \n",
       "112         0.0                   0.0         0.0            0.0   \n",
       "113         0.0                   0.0         0.0            0.0   \n",
       "114         0.0                   0.0         0.0            0.0   \n",
       "115         0.0                   0.0         0.0            0.0   \n",
       "\n",
       "     overcast clouds  scattered clouds  squalls  thunderstorm  \n",
       "0           0.155556               0.0      0.0           0.0  \n",
       "1           0.906667               0.0      0.0           0.0  \n",
       "2           1.000000               0.0      0.0           0.0  \n",
       "3           1.000000               0.0      0.0           0.0  \n",
       "4           0.444444               0.0      0.0           0.0  \n",
       "..               ...               ...      ...           ...  \n",
       "111         0.250000               0.0      0.0           0.0  \n",
       "112         0.000000               0.0      0.0           0.0  \n",
       "113         0.250000               0.0      0.0           0.0  \n",
       "114         0.000000               0.0      0.0           0.0  \n",
       "115         0.000000               0.0      0.0           0.0  \n",
       "\n",
       "[116 rows x 78 columns]"
      ]
     },
     "execution_count": 23,
     "metadata": {},
     "output_type": "execute_result"
    }
   ],
   "source": [
    "df_cleaned"
   ]
  },
  {
   "cell_type": "markdown",
   "metadata": {},
   "source": [
    "From the plot we can see that there is no trend, however there is some seasonality because the frequency of the cars decreases after 12am."
   ]
  },
  {
   "cell_type": "code",
   "execution_count": 92,
   "metadata": {
    "colab": {
     "base_uri": "https://localhost:8080/",
     "height": 414
    },
    "id": "hg5Ykt9ul_Rx",
    "outputId": "9bea1ec7-29cf-4571-b6f9-caf0237b0e5a"
   },
   "outputs": [
    {
     "name": "stdout",
     "output_type": "stream",
     "text": [
      "ADF Statistic: -2.480776\n",
      "p-value: 0.120222\n",
      "Critical Values:\n",
      "\t1%: -3.491\n",
      "\t5%: -2.888\n",
      "\t10%: -2.581\n"
     ]
    }
   ],
   "source": [
    "X = df_cleaned[\"Vehicle_0.1\"]\n",
    "result = adfuller(X)\n",
    "print('ADF Statistic: %f' % result[0])\n",
    "print('p-value: %f' % result[1])\n",
    "print('Critical Values:')\n",
    "for key, value in result[4].items():\n",
    "    print('\\t%s: %.3f' % (key, value))"
   ]
  },
  {
   "cell_type": "markdown",
   "metadata": {},
   "source": [
    "We can see that p value of ADF statistics is almost 0 which is smaller than 0.05, thus we reject the null hypothesis and conclude that our series is stationary."
   ]
  },
  {
   "cell_type": "code",
   "execution_count": 93,
   "metadata": {
    "colab": {
     "base_uri": "https://localhost:8080/",
     "height": 380
    },
    "id": "__d639REmfrH",
    "outputId": "020a5ce1-c67d-401e-ea2f-0ba82868597a"
   },
   "outputs": [
    {
     "name": "stdout",
     "output_type": "stream",
     "text": [
      "KPSS Statistic: 0.343838\n",
      "p-value: 0.100000\n",
      "number of lags: 13.000000\n",
      "Critical Values:\n",
      "\t10%: 0.347\n",
      "\t5%: 0.463\n",
      "\t2.5%: 0.574\n",
      "\t1%: 0.739\n"
     ]
    },
    {
     "name": "stderr",
     "output_type": "stream",
     "text": [
      "C:\\ProgramData\\Anaconda3\\lib\\site-packages\\statsmodels\\tsa\\stattools.py:1875: FutureWarning: The behavior of using nlags=None will change in release 0.13.Currently nlags=None is the same as nlags=\"legacy\", and so a sample-size lag length is used. After the next release, the default will change to be the same as nlags=\"auto\" which uses an automatic lag length selection method. To silence this warning, either use \"auto\" or \"legacy\"\n",
      "  warnings.warn(msg, FutureWarning)\n",
      "C:\\ProgramData\\Anaconda3\\lib\\site-packages\\statsmodels\\tsa\\stattools.py:1910: InterpolationWarning: The test statistic is outside of the range of p-values available in the\n",
      "look-up table. The actual p-value is greater than the p-value returned.\n",
      "\n",
      "  warnings.warn(\n"
     ]
    }
   ],
   "source": [
    "result = kpss(X)\n",
    "print('KPSS Statistic: %f' % result[0])\n",
    "print('p-value: %f' % result[1])\n",
    "print('number of lags: %f' % result[2])\n",
    "\n",
    "print('Critical Values:')\n",
    "for key, value in result[3].items():\n",
    "    print('\\t%s: %.3f' % (key, value))"
   ]
  },
  {
   "cell_type": "markdown",
   "metadata": {},
   "source": [
    "We have p-value equal to 0.1, which is larger than 0.05, thus we can say that we have stationary time series."
   ]
  },
  {
   "cell_type": "code",
   "execution_count": 94,
   "metadata": {
    "colab": {
     "base_uri": "https://localhost:8080/",
     "height": 597
    },
    "id": "t1icigMkmrFf",
    "outputId": "3b0f938d-54ba-4660-950d-6920a56431f1"
   },
   "outputs": [
    {
     "data": {
      "image/png": "[encoded data removed]",
      "text/plain": [
       "<Figure size 432x288 with 1 Axes>"
      ]
     },
     "metadata": {
      "needs_background": "light"
     },
     "output_type": "display_data"
    },
    {
     "data": {
      "image/png": "[encoded data removed]",
      "text/plain": [
       "<Figure size 432x288 with 1 Axes>"
      ]
     },
     "metadata": {
      "needs_background": "light"
     },
     "output_type": "display_data"
    }
   ],
   "source": [
    "plot_acf(X, lags=20)     \n",
    "plot_pacf(X, lags=20)     \n",
    "plt.show()"
   ]
  },
  {
   "cell_type": "markdown",
   "metadata": {},
   "source": [
    "From the ACF plot we can see that all lags are significant up to lag 3 for the MA process. In PACF we have significant lags until lag 2 and then cuts off, so we will choose lag as 2."
   ]
  },
  {
   "cell_type": "code",
   "execution_count": 12,
   "metadata": {},
   "outputs": [],
   "source": [
    "#X = pd.concat([X,X,X])\n",
    "#X.reset_index(drop= True, inplace = True)"
   ]
  },
  {
   "cell_type": "code",
   "execution_count": 95,
   "metadata": {
    "id": "jW3_4nM6muyY"
   },
   "outputs": [],
   "source": [
    "total_observations = len(X)\n",
    "train = X[:int(0.8*total_observations)]\n",
    "test = X[int(0.8*total_observations):]"
   ]
  },
  {
   "cell_type": "code",
   "execution_count": 96,
   "metadata": {},
   "outputs": [],
   "source": [
    "model = ARIMA(train.astype(float),order=(2, 0, 3)).fit()"
   ]
  },
  {
   "cell_type": "code",
   "execution_count": 97,
   "metadata": {},
   "outputs": [
    {
     "name": "stdout",
     "output_type": "stream",
     "text": [
      "                               SARIMAX Results                                \n",
      "==============================================================================\n",
      "Dep. Variable:            Vehicle_0.1   No. Observations:                   92\n",
      "Model:                 ARIMA(2, 0, 3)   Log Likelihood                -136.763\n",
      "Date:                Wed, 11 May 2022   AIC                            287.525\n",
      "Time:                        10:12:07   BIC                            305.178\n",
      "Sample:                             0   HQIC                           294.650\n",
      "                                 - 92                                         \n",
      "Covariance Type:                  opg                                         \n",
      "==============================================================================\n",
      "                 coef    std err          z      P>|z|      [0.025      0.975]\n",
      "------------------------------------------------------------------------------\n",
      "const          3.9232      0.511      7.677      0.000       2.922       4.925\n",
      "ar.L1          0.8264      0.591      1.398      0.162      -0.333       1.985\n",
      "ar.L2          0.0486      0.421      0.116      0.908      -0.776       0.873\n",
      "ma.L1          0.0513      0.565      0.091      0.928      -1.056       1.159\n",
      "ma.L2         -0.1394      0.190     -0.734      0.463      -0.512       0.233\n",
      "ma.L3         -0.3240      0.159     -2.034      0.042      -0.636      -0.012\n",
      "sigma2         1.1311      0.172      6.576      0.000       0.794       1.468\n",
      "===================================================================================\n",
      "Ljung-Box (L1) (Q):                   0.00   Jarque-Bera (JB):                 3.75\n",
      "Prob(Q):                              0.95   Prob(JB):                         0.15\n",
      "Heteroskedasticity (H):               1.79   Skew:                             0.13\n",
      "Prob(H) (two-sided):                  0.11   Kurtosis:                         3.96\n",
      "===================================================================================\n",
      "\n",
      "Warnings:\n",
      "[1] Covariance matrix calculated using the outer product of gradients (complex-step).\n"
     ]
    }
   ],
   "source": [
    "print(model.summary())"
   ]
  },
  {
   "cell_type": "code",
   "execution_count": 98,
   "metadata": {},
   "outputs": [],
   "source": [
    "predictions = model.forecast(len(test))\n",
    "residuals = test.astype(float) - predictions"
   ]
  },
  {
   "cell_type": "code",
   "execution_count": 99,
   "metadata": {},
   "outputs": [
    {
     "data": {
      "text/plain": [
       "Text(0, 0.5, 'Error')"
      ]
     },
     "execution_count": 99,
     "metadata": {},
     "output_type": "execute_result"
    },
    {
     "data": {
      "image/png": "[encoded data removed]",
      "text/plain": [
       "<Figure size 720x288 with 1 Axes>"
      ]
     },
     "metadata": {
      "needs_background": "light"
     },
     "output_type": "display_data"
    }
   ],
   "source": [
    "plt.figure(figsize=(10,4))\n",
    "plt.plot(residuals)\n",
    "plt.axhline(0, linestyle='--', color='red')\n",
    "plt.title('Residuals from ARIMA Model', fontsize=22)\n",
    "plt.ylabel('Error', fontsize=17)"
   ]
  },
  {
   "cell_type": "code",
   "execution_count": 100,
   "metadata": {},
   "outputs": [
    {
     "data": {
      "text/plain": [
       "[<matplotlib.lines.Line2D at 0x2bee25d3d60>]"
      ]
     },
     "execution_count": 100,
     "metadata": {},
     "output_type": "execute_result"
    },
    {
     "data": {
      "image/png": "[encoded data removed]",
      "text/plain": [
       "<Figure size 432x288 with 1 Axes>"
      ]
     },
     "metadata": {
      "needs_background": "light"
     },
     "output_type": "display_data"
    }
   ],
   "source": [
    "Lj_Box = sm.stats.acorr_ljungbox(residuals, lags = 10,return_df = True)\n",
    "plt.plot(Lj_Box.index, Lj_Box.lb_pvalue)"
   ]
  },
  {
   "cell_type": "markdown",
   "metadata": {},
   "source": [
    "The p-values are increasing with the lags, so the model does not capture some of the patterns in the data and the errors are correlated after lag 3(for p-crit = 0.05)."
   ]
  },
  {
   "cell_type": "code",
   "execution_count": 101,
   "metadata": {},
   "outputs": [
    {
     "name": "stderr",
     "output_type": "stream",
     "text": [
      "C:\\ProgramData\\Anaconda3\\lib\\site-packages\\pmdarima\\arima\\_validation.py:76: UserWarning: stepwise model cannot be fit in parallel (n_jobs=1). Falling back to stepwise parameter search.\n",
      "  warnings.warn('stepwise model cannot be fit in parallel (n_jobs=%i). '\n"
     ]
    },
    {
     "name": "stdout",
     "output_type": "stream",
     "text": [
      "Performing stepwise search to minimize aic\n",
      " ARIMA(2,1,2)(1,0,1)[24] intercept   : AIC=285.331, Time=0.35 sec\n",
      " ARIMA(0,1,0)(0,0,0)[24] intercept   : AIC=293.506, Time=0.02 sec\n",
      " ARIMA(1,1,0)(1,0,0)[24] intercept   : AIC=293.656, Time=0.12 sec\n",
      " ARIMA(0,1,1)(0,0,1)[24] intercept   : AIC=292.735, Time=0.10 sec\n",
      " ARIMA(0,1,0)(0,0,0)[24]             : AIC=291.507, Time=0.02 sec\n",
      " ARIMA(2,1,2)(0,0,1)[24] intercept   : AIC=283.761, Time=0.30 sec\n",
      " ARIMA(2,1,2)(0,0,0)[24] intercept   : AIC=287.577, Time=0.10 sec\n",
      " ARIMA(2,1,2)(0,0,2)[24] intercept   : AIC=285.754, Time=0.80 sec\n",
      " ARIMA(2,1,2)(1,0,0)[24] intercept   : AIC=284.054, Time=0.30 sec\n",
      " ARIMA(2,1,2)(1,0,2)[24] intercept   : AIC=287.475, Time=0.86 sec\n",
      " ARIMA(1,1,2)(0,0,1)[24] intercept   : AIC=282.475, Time=0.26 sec\n",
      " ARIMA(1,1,2)(0,0,0)[24] intercept   : AIC=286.496, Time=0.08 sec\n",
      " ARIMA(1,1,2)(1,0,1)[24] intercept   : AIC=284.955, Time=0.32 sec\n",
      " ARIMA(1,1,2)(0,0,2)[24] intercept   : AIC=284.483, Time=0.67 sec\n",
      " ARIMA(1,1,2)(1,0,0)[24] intercept   : AIC=283.069, Time=0.24 sec\n",
      " ARIMA(1,1,2)(1,0,2)[24] intercept   : AIC=286.217, Time=0.81 sec\n",
      " ARIMA(0,1,2)(0,0,1)[24] intercept   : AIC=288.565, Time=0.18 sec\n",
      " ARIMA(1,1,1)(0,0,1)[24] intercept   : AIC=290.940, Time=0.27 sec\n",
      " ARIMA(1,1,3)(0,0,1)[24] intercept   : AIC=276.208, Time=0.33 sec\n",
      " ARIMA(1,1,3)(0,0,0)[24] intercept   : AIC=282.070, Time=0.10 sec\n",
      " ARIMA(1,1,3)(1,0,1)[24] intercept   : AIC=278.590, Time=0.38 sec\n",
      " ARIMA(1,1,3)(0,0,2)[24] intercept   : AIC=278.003, Time=0.77 sec\n",
      " ARIMA(1,1,3)(1,0,0)[24] intercept   : AIC=277.504, Time=0.30 sec\n",
      " ARIMA(1,1,3)(1,0,2)[24] intercept   : AIC=279.991, Time=0.90 sec\n",
      " ARIMA(0,1,3)(0,0,1)[24] intercept   : AIC=274.263, Time=0.26 sec\n",
      " ARIMA(0,1,3)(0,0,0)[24] intercept   : AIC=279.614, Time=0.08 sec\n",
      " ARIMA(0,1,3)(1,0,1)[24] intercept   : AIC=276.129, Time=0.37 sec\n",
      " ARIMA(0,1,3)(0,0,2)[24] intercept   : AIC=276.222, Time=0.72 sec\n",
      " ARIMA(0,1,3)(1,0,0)[24] intercept   : AIC=275.201, Time=0.27 sec\n",
      " ARIMA(0,1,3)(1,0,2)[24] intercept   : AIC=278.555, Time=0.87 sec\n",
      " ARIMA(0,1,4)(0,0,1)[24] intercept   : AIC=276.283, Time=0.29 sec\n",
      " ARIMA(1,1,4)(0,0,1)[24] intercept   : AIC=277.647, Time=0.33 sec\n",
      " ARIMA(0,1,3)(0,0,1)[24]             : AIC=275.060, Time=0.18 sec\n",
      "\n",
      "Best model:  ARIMA(0,1,3)(0,0,1)[24] intercept\n",
      "Total fit time: 11.939 seconds\n"
     ]
    }
   ],
   "source": [
    "#WE do not consider the seasonal component because the order of dependence for 1 day is 1440 and it will take forever to fit that model. Further aggregations of the data will help with this problem.\n",
    "model_auto=pm.auto_arima(\n",
    "    train,\n",
    "    test='adf',\n",
    "    max_p = 12,\n",
    "    max_d = 1,\n",
    "    max_q = 12,\n",
    "    seasonal=True,\n",
    "    m=24,\n",
    "    max_P=24,\n",
    "    max_Q=24,\n",
    "    max_D=1,\n",
    "    trace=True,\n",
    "    error_action='ignore', \n",
    "    suppress_warnings=True,\n",
    "    stepwise=True,\n",
    "    n_fits=120,\n",
    "    maxiter=11,\n",
    "    n_jobs=-1)"
   ]
  },
  {
   "cell_type": "code",
   "execution_count": 102,
   "metadata": {},
   "outputs": [
    {
     "name": "stdout",
     "output_type": "stream",
     "text": [
      "MSE of the AUTOARIMA model is 6.255935429267377\n"
     ]
    }
   ],
   "source": [
    "print('MSE of the AUTOARIMA model is', np.mean((model_auto.predict(len(test))-test.astype(\"float\"))**2))"
   ]
  },
  {
   "cell_type": "code",
   "execution_count": 103,
   "metadata": {},
   "outputs": [
    {
     "name": "stdout",
     "output_type": "stream",
     "text": [
      "MSE of the previously chosen model is 2.350160350024541\n"
     ]
    }
   ],
   "source": [
    "print('MSE of the previously chosen model is', np.mean((model.forecast(len(test)) - test.astype(\"float\")) **2))"
   ]
  },
  {
   "cell_type": "markdown",
   "metadata": {},
   "source": [
    "We can observe that the MSE of the previously chosen model is lower, meaning that it is better if we take into consideration MSEs. This procedure might be incorrect because autoarima minimized the AIC and not the MSE, but the autoarima also included the seasonality of 24 hours, so this is a sign that there is little information in knowing the same number of cars for the previous day."
   ]
  },
  {
   "cell_type": "code",
   "execution_count": 104,
   "metadata": {},
   "outputs": [],
   "source": [
    "model = ARIMA(train.astype(float),order=(2,0,3)).fit()\n",
    "predictions = model.forecast(24)#24 hours"
   ]
  },
  {
   "cell_type": "code",
   "execution_count": 105,
   "metadata": {},
   "outputs": [
    {
     "data": {
      "image/png": "[encoded data removed]",
      "text/plain": [
       "<Figure size 720x720 with 1 Axes>"
      ]
     },
     "metadata": {
      "needs_background": "light"
     },
     "output_type": "display_data"
    }
   ],
   "source": [
    "fig = plt.figure(figsize = (10,10))\n",
    "plt.plot(X,'blue')\n",
    "plt.plot(predictions,c='red')\n",
    "plt.show()"
   ]
  },
  {
   "cell_type": "code",
   "execution_count": 106,
   "metadata": {},
   "outputs": [],
   "source": [
    "exp_smooth = ExponentialSmoothing(train.astype(float),trend=None, seasonal = 'add',initialization_method='estimated',seasonal_periods=24).fit()"
   ]
  },
  {
   "cell_type": "markdown",
   "metadata": {},
   "source": [
    "## Car traffic is generally stationary in terms of trend, and the seasonality is additive because the variance is not increasing over time."
   ]
  },
  {
   "cell_type": "code",
   "execution_count": 107,
   "metadata": {},
   "outputs": [
    {
     "name": "stdout",
     "output_type": "stream",
     "text": [
      "MSE of the exp_smoothing model is 4.554008916290996\n"
     ]
    }
   ],
   "source": [
    "predictions = exp_smooth.forecast(len(test))\n",
    "print('MSE of the exp_smoothing model is', np.mean((predictions.values-test.astype(\"float\"))**2))"
   ]
  },
  {
   "cell_type": "markdown",
   "metadata": {},
   "source": [
    "## The exponential smoothing model is worse than the Arima model from before."
   ]
  },
  {
   "cell_type": "code",
   "execution_count": 108,
   "metadata": {},
   "outputs": [],
   "source": [
    "exp_smooth = ExponentialSmoothing(train.astype(float),trend=None, seasonal = 'add',initialization_method='estimated',seasonal_periods=24).fit()"
   ]
  },
  {
   "cell_type": "code",
   "execution_count": 109,
   "metadata": {},
   "outputs": [
    {
     "data": {
      "image/png": "[encoded data removed]",
      "text/plain": [
       "<Figure size 432x288 with 1 Axes>"
      ]
     },
     "metadata": {
      "needs_background": "light"
     },
     "output_type": "display_data"
    }
   ],
   "source": [
    "ax = plt.subplot()\n",
    "ax.plot(exp_smooth.forecast(24))\n",
    "ax.plot(X.astype(float))\n",
    "ax.plot(model.forecast(24))\n",
    "#ax.plot(predictions)\n",
    "\n",
    "plt.show()"
   ]
  },
  {
   "cell_type": "code",
   "execution_count": 110,
   "metadata": {},
   "outputs": [],
   "source": [
    "size = int(len(X) * 0.8)\n",
    "train_new, test_new = list(X[0:size]), list(X[size:len(X)])\n",
    "\n",
    "history = [x for x in train_new]\n",
    "predictions = list()"
   ]
  },
  {
   "cell_type": "code",
   "execution_count": 111,
   "metadata": {},
   "outputs": [
    {
     "name": "stdout",
     "output_type": "stream",
     "text": [
      "predicted=5.154806, expected=6.816667\n",
      "predicted=6.003751, expected=4.950000\n",
      "predicted=4.038232, expected=3.183333\n",
      "predicted=2.947556, expected=2.483333\n",
      "predicted=3.146416, expected=2.983333\n",
      "predicted=3.380108, expected=3.900000\n",
      "predicted=4.068294, expected=6.600000\n",
      "predicted=6.342761, expected=3.933333\n",
      "predicted=3.325790, expected=4.066667\n",
      "predicted=3.559670, expected=3.250000\n",
      "predicted=4.171214, expected=4.683333\n",
      "predicted=4.182118, expected=5.733333\n",
      "predicted=5.506548, expected=4.150000\n",
      "predicted=3.783980, expected=2.966667\n",
      "predicted=2.843532, expected=6.150000\n",
      "predicted=6.318676, expected=7.866667\n",
      "predicted=6.901330, expected=4.100000\n",
      "predicted=3.060180, expected=2.850000\n",
      "predicted=3.572459, expected=2.100000\n",
      "predicted=3.139278, expected=1.250000\n",
      "predicted=1.729521, expected=2.050000\n",
      "predicted=3.271156, expected=3.733333\n",
      "predicted=3.939827, expected=4.216667\n",
      "predicted=3.855454, expected=5.238095\n"
     ]
    }
   ],
   "source": [
    "# walk-forward validation\n",
    "for t in range(len(test_new)):\n",
    "    model_new = ARIMA(history, order=(2,0,3))\n",
    "    model_fit = model_new.fit()\n",
    "    output = model_fit.forecast()\n",
    "    yhat = output[0]\n",
    "    predictions.append(yhat)\n",
    "    obs = test_new[t]\n",
    "    history.append(obs)\n",
    "    print('predicted=%f, expected=%f' % (yhat, obs))"
   ]
  },
  {
   "cell_type": "code",
   "execution_count": 112,
   "metadata": {},
   "outputs": [],
   "source": [
    "Rolling = train_new + predictions"
   ]
  },
  {
   "cell_type": "code",
   "execution_count": 113,
   "metadata": {
    "scrolled": true,
    "tags": []
   },
   "outputs": [
    {
     "data": {
      "image/png": "[encoded data removed]",
      "text/plain": [
       "<Figure size 432x288 with 1 Axes>"
      ]
     },
     "metadata": {
      "needs_background": "light"
     },
     "output_type": "display_data"
    }
   ],
   "source": [
    "ax = plt.subplot()\n",
    "ax.plot(exp_smooth.forecast(24),color = \"red\")\n",
    "ax.plot(model.forecast(24),color = \"green\")\n",
    "ax.plot(Rolling,color = \"blue\")\n",
    "\n",
    "plt.show()"
   ]
  }
 ],
 "metadata": {
  "colab": {
   "name": "TSF Project.ipynb",
   "provenance": []
  },
  "kernelspec": {
   "display_name": "default:Python",
   "language": "python",
   "name": "conda-env-default-py"
  },
  "language_info": {
   "codemirror_mode": {
    "name": "ipython",
    "version": 3
   },
   "file_extension": ".py",
   "mimetype": "text/x-python",
   "name": "python",
   "nbconvert_exporter": "python",
   "pygments_lexer": "ipython3",
   "version": "3.9.10"
  }
 },
 "nbformat": 4,
 "nbformat_minor": 4
}
